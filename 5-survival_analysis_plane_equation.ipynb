{
 "cells": [
  {
   "cell_type": "code",
   "execution_count": 1,
   "metadata": {},
   "outputs": [],
   "source": [
    "import numpy as np\n",
    "import pandas as pd\n",
    "import matplotlib.pylab as plt"
   ]
  },
  {
   "cell_type": "code",
   "execution_count": 2,
   "metadata": {},
   "outputs": [],
   "source": [
    "from lifelines import KaplanMeierFitter, statistics"
   ]
  },
  {
   "cell_type": "code",
   "execution_count": 3,
   "metadata": {},
   "outputs": [],
   "source": [
    "RANDOM_STATE = 0"
   ]
  },
  {
   "cell_type": "code",
   "execution_count": 4,
   "metadata": {},
   "outputs": [],
   "source": [
    "dat_km = pd.read_csv(\"data/survival_data.csv\")"
   ]
  },
  {
   "cell_type": "code",
   "execution_count": 5,
   "metadata": {},
   "outputs": [],
   "source": [
    "T = dat_km.dropna().loc[:,'TIEMPO LIBRE DE ENFERMEDAD_TODOS']\n",
    "C = dat_km.dropna().loc[:,'EVOL_METASTASIS']"
   ]
  },
  {
   "cell_type": "code",
   "execution_count": 6,
   "metadata": {},
   "outputs": [
    {
     "data": {
      "text/html": [
       "<div>\n",
       "<style scoped>\n",
       "    .dataframe tbody tr th:only-of-type {\n",
       "        vertical-align: middle;\n",
       "    }\n",
       "\n",
       "    .dataframe tbody tr th {\n",
       "        vertical-align: top;\n",
       "    }\n",
       "\n",
       "    .dataframe thead th {\n",
       "        text-align: right;\n",
       "    }\n",
       "</style>\n",
       "<table border=\"1\" class=\"dataframe\">\n",
       "  <thead>\n",
       "    <tr style=\"text-align: right;\">\n",
       "      <th></th>\n",
       "      <th>HIST_BRESLOW_mm</th>\n",
       "      <th>GM-CSF</th>\n",
       "      <th>IL-4</th>\n",
       "      <th>Dermicidina</th>\n",
       "    </tr>\n",
       "  </thead>\n",
       "  <tbody>\n",
       "    <tr>\n",
       "      <th>0</th>\n",
       "      <td>1.35</td>\n",
       "      <td>147.18</td>\n",
       "      <td>24.03</td>\n",
       "      <td>6534.467</td>\n",
       "    </tr>\n",
       "    <tr>\n",
       "      <th>1</th>\n",
       "      <td>0.50</td>\n",
       "      <td>290.40</td>\n",
       "      <td>37.21</td>\n",
       "      <td>14336.631</td>\n",
       "    </tr>\n",
       "    <tr>\n",
       "      <th>2</th>\n",
       "      <td>0.72</td>\n",
       "      <td>261.07</td>\n",
       "      <td>49.21</td>\n",
       "      <td>8780.811</td>\n",
       "    </tr>\n",
       "    <tr>\n",
       "      <th>3</th>\n",
       "      <td>0.30</td>\n",
       "      <td>37.58</td>\n",
       "      <td>40.61</td>\n",
       "      <td>7649.131</td>\n",
       "    </tr>\n",
       "    <tr>\n",
       "      <th>4</th>\n",
       "      <td>7.00</td>\n",
       "      <td>236.31</td>\n",
       "      <td>50.18</td>\n",
       "      <td>7406.295</td>\n",
       "    </tr>\n",
       "  </tbody>\n",
       "</table>\n",
       "</div>"
      ],
      "text/plain": [
       "   HIST_BRESLOW_mm  GM-CSF   IL-4  Dermicidina\n",
       "0             1.35  147.18  24.03     6534.467\n",
       "1             0.50  290.40  37.21    14336.631\n",
       "2             0.72  261.07  49.21     8780.811\n",
       "3             0.30   37.58  40.61     7649.131\n",
       "4             7.00  236.31  50.18     7406.295"
      ]
     },
     "execution_count": 6,
     "metadata": {},
     "output_type": "execute_result"
    }
   ],
   "source": [
    "sub_dat_km = dat_km.dropna().loc[:,[\"HIST_BRESLOW_mm\", \"GM-CSF\", \"IL-4\", \"Dermicidina\"]]\n",
    "sub_dat_km.head()"
   ]
  },
  {
   "cell_type": "code",
   "execution_count": 7,
   "metadata": {},
   "outputs": [],
   "source": [
    "# We use previously computed splitting rule\n",
    "def plane_equation(breslow, gm_csf, il4, dcd):\n",
    "    \n",
    "    eq = breslow/1.41 - gm_csf/562.64 + il4/161.81 - dcd/9871.12\n",
    "    \n",
    "    if eq >= 0.99:\n",
    "        return True\n",
    "    else:\n",
    "        return False"
   ]
  },
  {
   "cell_type": "code",
   "execution_count": 8,
   "metadata": {},
   "outputs": [],
   "source": [
    "met_prediction = []\n",
    "for ii in range(sub_dat_km.shape[0]):\n",
    "    breslow, gm_csf, il4, dcd = sub_dat_km.iloc[ii,0],\\\n",
    "    sub_dat_km.iloc[ii,1],\\\n",
    "    sub_dat_km.iloc[ii,2],\\\n",
    "    sub_dat_km.iloc[ii,3]\n",
    "    \n",
    "    met_prediction.append(plane_equation(breslow=breslow, \n",
    "                                         gm_csf = gm_csf,\n",
    "                                         il4 = il4,\n",
    "                                         dcd = dcd))\n",
    "met_prediction = np.array(met_prediction)"
   ]
  },
  {
   "cell_type": "code",
   "execution_count": 9,
   "metadata": {},
   "outputs": [],
   "source": [
    "kmf = KaplanMeierFitter()"
   ]
  },
  {
   "cell_type": "code",
   "execution_count": 10,
   "metadata": {},
   "outputs": [],
   "source": [
    "g_high_text = r'$\\left(\\frac{\\bf Breslow}{1.41}\\right) \\\n",
    "- \\left(\\frac{\\bf GM-CSF}{562.64}\\right) + \\left(\\frac{\\bfIL-4 }{161.81} \\right) \\\n",
    "- \\left(\\frac{\\bf DCD}{9871.12} \\right) > 0.99$'\n",
    "\n",
    "g_low_text = r'$\\left(\\frac{\\bf Breslow}{1.41}\\right) \\\n",
    "- \\left(\\frac{\\bf GM-CSF}{562.64}\\right) + \\left(\\frac{\\bf IL-4 }{161.81} \\right) \\\n",
    "- \\left(\\frac{\\bf DCD}{9871.12} \\right) < 0.99$'"
   ]
  },
  {
   "cell_type": "code",
   "execution_count": 11,
   "metadata": {},
   "outputs": [
    {
     "name": "stdout",
     "output_type": "stream",
     "text": [
      "0    0.5\n",
      "dtype: float64\n",
      "0    0.5\n",
      "dtype: float64\n"
     ]
    },
    {
     "data": {
      "image/png": "[encoded data removed]",
      "text/plain": [
       "<Figure size 432x288 with 1 Axes>"
      ]
     },
     "metadata": {
      "needs_background": "light"
     },
     "output_type": "display_data"
    }
   ],
   "source": [
    "fig, ax = plt.subplots()\n",
    "kmf = KaplanMeierFitter()\n",
    "kmf.fit(T[met_prediction], event_observed=C[met_prediction], timeline=np.arange(0, max(T[met_prediction]), 12), \n",
    "        label= g_high_text)\n",
    "\n",
    "kmf.plot(ax=ax, c='salmon')\n",
    "\n",
    "kmf.fit(T[~met_prediction], event_observed=C[~met_prediction], timeline=np.arange(0,  max(T[met_prediction]), 12), \n",
    "        label=g_low_text)\n",
    "\n",
    "kmf.plot(ax=ax, c= 'lightblue')\n",
    "plt.legend(loc=(0.2, 0.55), prop = {'weight':'bold'}, edgecolor=\"black\", labelspacing=0.1, borderpad=0.25)\n",
    "plt.title('Kaplan-Meier estimator ',size=25, weight='bold')\n",
    "\n",
    "plt.xticks(size=10, weight='bold')\n",
    "plt.yticks(size=10, weight='bold')\n",
    "plt.tight_layout()\n",
    "plt.xlabel('Months',size=15,weight='bold')\n",
    "plt.ylabel('Metastasis development',size=15,weight='bold')\n",
    "plt.tight_layout()\n",
    "#plt.savefig('plots/survival.svg', dpi = 300)\n",
    "pass"
   ]
  },
  {
   "cell_type": "code",
   "execution_count": 12,
   "metadata": {},
   "outputs": [
    {
     "name": "stdout",
     "output_type": "stream",
     "text": [
      "('Log rank testing for the subjects stratification based on this plane p = ', 1.2577754904412573e-27)\n"
     ]
    }
   ],
   "source": [
    "results = statistics.logrank_test(T[met_prediction], T[~met_prediction],\n",
    "                                  C[met_prediction], C[~met_prediction], alpha=.99)\n",
    "print(\"Log rank testing for the subjects stratification based on this plane p = \", results.p_value )"
   ]
  }
 ],
 "metadata": {
  "kernelspec": {
   "display_name": "Python 3",
   "language": "python",
   "name": "python3"
  },
  "language_info": {
   "codemirror_mode": {
    "name": "ipython",
    "version": 3
   },
   "file_extension": ".py",
   "mimetype": "text/x-python",
   "name": "python",
   "nbconvert_exporter": "python",
   "pygments_lexer": "ipython3",
   "version": "3.7.4"
  }
 },
 "nbformat": 4,
 "nbformat_minor": 2
}
