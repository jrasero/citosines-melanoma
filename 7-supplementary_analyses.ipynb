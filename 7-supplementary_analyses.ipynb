{
 "cells": [
  {
   "cell_type": "code",
   "execution_count": 2,
   "metadata": {},
   "outputs": [],
   "source": [
    "import numpy as np\n",
    "import pandas as pd\n",
    "import matplotlib.pylab as plt\n",
    "plt.rcParams['font.family'] = \"Times New Roman\""
   ]
  },
  {
   "cell_type": "code",
   "execution_count": 27,
   "metadata": {},
   "outputs": [],
   "source": [
    "from sklearn.model_selection import (GridSearchCV, StratifiedKFold, \n",
    "                                     RepeatedStratifiedKFold, cross_validate)\n",
    "from sklearn.linear_model import LogisticRegression\n",
    "from sklearn.preprocessing import RobustScaler\n",
    "from imblearn.over_sampling import RandomOverSampler\n",
    "from imblearn import pipeline\n",
    "from sklearn.feature_selection import SelectFromModel"
   ]
  },
  {
   "cell_type": "code",
   "execution_count": 4,
   "metadata": {},
   "outputs": [],
   "source": [
    "RANDOM_STATE = 0"
   ]
  },
  {
   "cell_type": "code",
   "execution_count": 10,
   "metadata": {},
   "outputs": [],
   "source": [
    "dat_cits = pd.read_csv(\"data/ml_data.csv\")"
   ]
  },
  {
   "cell_type": "code",
   "execution_count": 12,
   "metadata": {},
   "outputs": [],
   "source": [
    "X_supp = pd.get_dummies(dat_cits.dropna().drop(columns=['EVOL_METASTASIS']), columns=['SEX']).values\n",
    "y_supp = dat_cits.dropna().loc[:,'EVOL_METASTASIS'].values"
   ]
  },
  {
   "cell_type": "code",
   "execution_count": 23,
   "metadata": {},
   "outputs": [],
   "source": [
    "clf = LogisticRegression(class_weight='balanced', random_state=RANDOM_STATE)\n",
    "scaler = RobustScaler()\n",
    "ros = RandomOverSampler(random_state=RANDOM_STATE)\n",
    "feat = SelectFromModel(LogisticRegression(C=0.1, class_weight='balanced', penalty='l2', random_state=RANDOM_STATE),\n",
    "                       threshold=-np.inf)\n",
    "\n",
    "scoring = {'acc': 'accuracy',\n",
    "           'bac': 'balanced_accuracy',\n",
    "           'rec': 'recall',\n",
    "           'prec': 'precision',\n",
    "          'roc':'roc_auc',\n",
    "          'avg': 'average_precision',\n",
    "          'f1w':'f1_weighted'}"
   ]
  },
  {
   "cell_type": "code",
   "execution_count": 28,
   "metadata": {},
   "outputs": [
    {
     "name": "stderr",
     "output_type": "stream",
     "text": [
      "[Parallel(n_jobs=6)]: Using backend LokyBackend with 6 concurrent workers.\n",
      "[Parallel(n_jobs=6)]: Done  38 tasks      | elapsed:  3.8min\n",
      "[Parallel(n_jobs=6)]: Done  50 out of  50 | elapsed:  4.6min finished\n"
     ]
    }
   ],
   "source": [
    "pip = pipeline.Pipeline([('scaler', scaler), ('ros', ros), ('feat', feat), ('clf', clf)])    \n",
    "\n",
    "param_grid_supp = {'clf__C':np.logspace(-3, 2, 10)}\n",
    "param_grid_supp['feat__max_features'] = range(1, X_supp.shape[1] + 1)\n",
    "\n",
    "grid = GridSearchCV(estimator=pip, \n",
    "                    param_grid=param_grid_supp, \n",
    "                    scoring='balanced_accuracy', iid=False,\n",
    "                    cv= StratifiedKFold(n_splits=10, random_state=RANDOM_STATE))\n",
    "\n",
    "res_all_conf = cross_validate(grid, X_supp, y_supp, \n",
    "                     scoring=scoring, \n",
    "                     cv = RepeatedStratifiedKFold(n_splits=10, n_repeats=5, random_state=RANDOM_STATE),\n",
    "                     return_estimator=True,\n",
    "                     return_train_score= True,\n",
    "                     verbose=1,\n",
    "                     n_jobs=6)"
   ]
  },
  {
   "cell_type": "code",
   "execution_count": 29,
   "metadata": {},
   "outputs": [],
   "source": [
    "bacc_supp_1 = res_all_conf['test_bac']"
   ]
  },
  {
   "cell_type": "code",
   "execution_count": 30,
   "metadata": {},
   "outputs": [],
   "source": [
    "participation= 100*np.array([estim.best_estimator_.named_steps['feat'].get_support() \n",
    "                         for estim in res_all_conf['estimator']]).sum(axis=0)/50.0"
   ]
  },
  {
   "cell_type": "code",
   "execution_count": 31,
   "metadata": {},
   "outputs": [
    {
     "data": {
      "image/png": "[encoded data removed]",
      "text/plain": [
       "<Figure size 432x288 with 2 Axes>"
      ]
     },
     "metadata": {
      "needs_background": "light"
     },
     "output_type": "display_data"
    }
   ],
   "source": [
    "fig = plt.figure()\n",
    "ax1 = fig.add_subplot(111)\n",
    "\n",
    "ax1.imshow(1-np.array([estim.best_estimator_.named_steps['feat'].get_support() \n",
    "                    for estim in res_all_conf['estimator']]).T[np.argsort(participation)[::-1],:], \n",
    "           aspect='auto', cmap='gray')\n",
    "\n",
    "ax1.set_xlabel(\"Folds\", size=15, fontweight='bold')\n",
    "ax1.set_xticks([0,9,19,29,39,49])\n",
    "ax1.set_xticklabels([\"1\", \"10\", \"20\",\"30\",\"40\",\"50\"], size=12, fontweight='bold')\n",
    "\n",
    "ax1.set_yticks(np.arange(X_supp.shape[1]))\n",
    "ax1.set_yticklabels(np.array(['Breslow', 'GM-CSF', 'IL-4', 'IL-6', 'IL-10', \n",
    "                                   'IL-17A', r'IFN-$\\gamma$', r'TGF-$\\beta$', \n",
    "                              'DCD', 'AGE', 'MALE', 'FEMALE'])[np.argsort(participation)[::-1]],\n",
    "                   size=12, fontweight='bold')\n",
    "ax1.set_yticks(0.5 + np.arange(X_supp.shape[1]), minor=True)\n",
    "ax1.set_xticks(0.5 + np.arange(50), minor=True)\n",
    "ax1.grid(which='minor')\n",
    "ax2= ax1.twinx()\n",
    "\n",
    "ax2.set_ylim([0,9])\n",
    "ax2.set_yticks([0.5, 1.2, 1.9, 2.7, 3.4, 4.1, 4.8, 5.6, 6.4, 7.2, 7.9, 8.6], minor=False)\n",
    "ax2.set_yticklabels(participation[np.argsort(participation)],\n",
    "                   size=12, fontweight='bold', minor=False)\n",
    "ax1.autoscale(False)\n",
    "ax2.autoscale(False)\n",
    "ax2.set_ylabel(\"Total participation (%)\", size=15, fontweight=\"bold\")\n",
    "plt.title(\"CV selection\", size=25, fontweight=\"bold\")\n",
    "plt.tight_layout()"
   ]
  },
  {
   "cell_type": "markdown",
   "metadata": {},
   "source": [
    "## BAYES FACTOR FOR THE THREE DIFFERENT MODELS?\n",
    "\n",
    "As a way of comparing our proposed scenario, let's compute the BIC for three "
   ]
  },
  {
   "cell_type": "code",
   "execution_count": 42,
   "metadata": {},
   "outputs": [],
   "source": [
    "X_model_1 = pd.get_dummies(dat_cits.dropna().drop(columns=['EVOL_METASTASIS']), \n",
    "                          columns=['SEX']).loc[:, ['HIST_BRESLOW_mm', 'GM-CSF', 'IL-4', 'Dermicidina']].values\n",
    "\n",
    "X_model_2 = pd.get_dummies(dat_cits.dropna().drop(columns=['EVOL_METASTASIS']), \n",
    "                          columns=['SEX']).loc[:, ['HIST_BRESLOW_mm', 'GM-CSF', 'IL-4', 'Dermicidina', \n",
    "                                                   'AGE', 'SEX_0', 'SEX_1']].values.astype(float)\n",
    "X_model_3 = pd.get_dummies(dat_cits.dropna().drop(columns=['EVOL_METASTASIS']), \n",
    "                          columns=['SEX']).loc[:, ['HIST_BRESLOW_mm', 'AGE', 'SEX_0', 'SEX_1']].values.astype(float)\n",
    "y_bic = dat_cits.dropna().loc[:, 'EVOL_METASTASIS'].values"
   ]
  },
  {
   "cell_type": "code",
   "execution_count": 38,
   "metadata": {},
   "outputs": [],
   "source": [
    "clf = LogisticRegression(class_weight='balanced')\n",
    "pip = pipeline.Pipeline([('scaler', scaler), ('clf', clf)])    \n",
    "\n",
    "grid = GridSearchCV(estimator=pip, \n",
    "                    param_grid={'clf__C':[1.0]} , \n",
    "                    scoring='balanced_accuracy', iid=False,\n",
    "                    cv= StratifiedKFold(n_splits=10, random_state=RANDOM_STATE))"
   ]
  },
  {
   "cell_type": "code",
   "execution_count": 40,
   "metadata": {},
   "outputs": [
    {
     "name": "stdout",
     "output_type": "stream",
     "text": [
      "0.8102164502164502\n"
     ]
    }
   ],
   "source": [
    "from sklearn.linear_model.logistic import _logistic_loss\n",
    "grid.fit(X_model_1, y_bic)\n",
    "print(grid.best_score_)\n",
    "\n",
    "X_model_1_trans = scaler.fit_transform(X_model_1)\n",
    "\n",
    "coef_ = np.squeeze(grid.best_estimator_.named_steps['clf'].coef_)\n",
    "alpha = 1 / grid.best_estimator_.named_steps['clf'].C\n",
    "\n",
    "P1 = np.exp(-_logistic_loss(coef_, X_model_1_trans, y_bic, alpha))\n",
    "\n",
    "n, k = X_model_1_trans.shape\n",
    "BIC_1 = -2*np.log(P1) + k*np.log(n)"
   ]
  },
  {
   "cell_type": "code",
   "execution_count": 41,
   "metadata": {},
   "outputs": [
    {
     "name": "stdout",
     "output_type": "stream",
     "text": [
      "0.826991341991342\n"
     ]
    }
   ],
   "source": [
    "grid.fit(X_model_2, y_bic)\n",
    "print(grid.best_score_)\n",
    "\n",
    "\n",
    "X_model_2_trans = scaler.fit_transform(X_model_2)\n",
    "\n",
    "coef_ = np.squeeze(grid.best_estimator_.named_steps['clf'].coef_)\n",
    "alpha = 1 / grid.best_estimator_.named_steps['clf'].C\n",
    "\n",
    "P2 = np.exp(-_logistic_loss(coef_, X_model_2_trans, y_bic, alpha))\n",
    "n, k = X_model_2_trans.shape\n",
    "BIC_2 = -2*np.log(P2) + k*np.log(n)"
   ]
  },
  {
   "cell_type": "code",
   "execution_count": 43,
   "metadata": {},
   "outputs": [
    {
     "name": "stdout",
     "output_type": "stream",
     "text": [
      "0.7917532467532468\n"
     ]
    }
   ],
   "source": [
    "grid.fit(X_model_3, y_bic)\n",
    "print(grid.best_score_)\n",
    "\n",
    "X_model_3_trans = scaler.fit_transform(X_model_3)\n",
    "\n",
    "coef_ = np.squeeze(grid.best_estimator_.named_steps['clf'].coef_)\n",
    "alpha = 1 / grid.best_estimator_.named_steps['clf'].C\n",
    "\n",
    "P3 = np.exp(-_logistic_loss(coef_, X_model_3_trans, y_bic, alpha))\n",
    "n, k = X_model_3_trans.shape\n",
    "BIC_3 = -2*np.log(P3) + k*np.log(n)"
   ]
  },
  {
   "cell_type": "code",
   "execution_count": 44,
   "metadata": {},
   "outputs": [
    {
     "name": "stdout",
     "output_type": "stream",
     "text": [
      "(337.1770114645364, 355.735438276381, 343.4349387720011)\n"
     ]
    }
   ],
   "source": [
    "# BICs\n",
    "print(BIC_1, BIC_2, BIC_3)"
   ]
  },
  {
   "cell_type": "code",
   "execution_count": 45,
   "metadata": {},
   "outputs": [
    {
     "name": "stdout",
     "output_type": "stream",
     "text": [
      "Bayes Factor between model with our variable of interest and the same including also confoundings = 10713.002\n"
     ]
    }
   ],
   "source": [
    "B12 = np.exp(0.5*(BIC_2 - BIC_1))\n",
    "print(\"Bayes Factor between model with our variable of interest and\"\n",
    "      \" the same including also confoundings = %.3f\" % B12)"
   ]
  },
  {
   "cell_type": "code",
   "execution_count": 46,
   "metadata": {},
   "outputs": [
    {
     "name": "stdout",
     "output_type": "stream",
     "text": [
      "Bayes Factor between model with variables of interest and confoundings and only the confoundings and = 0.002\n"
     ]
    }
   ],
   "source": [
    "B23 = np.exp(0.5*(BIC_3 - BIC_2))\n",
    "\n",
    "print(\"Bayes Factor between model with variables of interest and confoundings\"\n",
    "      \" and only the confoundings and = %.3f\" % B23)"
   ]
  },
  {
   "cell_type": "code",
   "execution_count": 47,
   "metadata": {},
   "outputs": [
    {
     "name": "stdout",
     "output_type": "stream",
     "text": [
      "Bayes Factor between model with the variables of interest only the confoundings and = 22.850\n"
     ]
    }
   ],
   "source": [
    "B13 = np.exp(0.5*(BIC_3 - BIC_1))\n",
    "print(\"Bayes Factor between model with the variables of interest\"\n",
    "      \" only the confoundings and = %.3f\" % B13)"
   ]
  }
 ],
 "metadata": {
  "kernelspec": {
   "display_name": "Python 3",
   "language": "python",
   "name": "python3"
  },
  "language_info": {
   "codemirror_mode": {
    "name": "ipython",
    "version": 2
   },
   "file_extension": ".py",
   "mimetype": "text/x-python",
   "name": "python",
   "nbconvert_exporter": "python",
   "pygments_lexer": "ipython2",
   "version": "2.7.15"
  }
 },
 "nbformat": 4,
 "nbformat_minor": 2
}
