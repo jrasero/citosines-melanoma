{
 "cells": [
  {
   "cell_type": "markdown",
   "metadata": {},
   "source": [
    "# ADDITIONAL ANALYSES: ADDING SEX, AGE and ULCERATION"
   ]
  },
  {
   "cell_type": "code",
   "execution_count": 1,
   "metadata": {},
   "outputs": [],
   "source": [
    "import numpy as np\n",
    "import pandas as pd\n",
    "import matplotlib.pylab as plt\n",
    "plt.rcParams['font.family'] = \"Times New Roman\""
   ]
  },
  {
   "cell_type": "code",
   "execution_count": 2,
   "metadata": {},
   "outputs": [],
   "source": [
    "from sklearn.model_selection import (GridSearchCV, StratifiedKFold, \n",
    "                                     RepeatedStratifiedKFold, cross_validate)\n",
    "from sklearn.linear_model import LogisticRegression\n",
    "from sklearn.preprocessing import RobustScaler\n",
    "from imblearn.over_sampling import RandomOverSampler\n",
    "from imblearn import pipeline\n",
    "from sklearn.feature_selection import SelectFromModel"
   ]
  },
  {
   "cell_type": "code",
   "execution_count": 3,
   "metadata": {},
   "outputs": [],
   "source": [
    "RANDOM_STATE = 0"
   ]
  },
  {
   "cell_type": "code",
   "execution_count": 33,
   "metadata": {},
   "outputs": [],
   "source": [
    "dat_supp = pd.read_csv(\"data/supplementary_data.csv\")"
   ]
  },
  {
   "cell_type": "code",
   "execution_count": 34,
   "metadata": {},
   "outputs": [],
   "source": [
    "X_supp = dat_supp.dropna().drop(columns=['EVOL_METASTASIS'])\n",
    "y_supp = dat_supp.dropna().loc[:,'EVOL_METASTASIS'].values.astype(int)"
   ]
  },
  {
   "cell_type": "code",
   "execution_count": 35,
   "metadata": {},
   "outputs": [
    {
     "name": "stdout",
     "output_type": "stream",
     "text": [
      "The size of this matrix is =  (267, 12)\n"
     ]
    }
   ],
   "source": [
    "#The new matrix includes now ulceration, sex and age as another predictors\n",
    "print(\"The size of this matrix is = \", X_supp.shape)"
   ]
  },
  {
   "cell_type": "code",
   "execution_count": 8,
   "metadata": {},
   "outputs": [],
   "source": [
    "clf = LogisticRegression(class_weight='balanced', random_state=RANDOM_STATE)\n",
    "scaler = RobustScaler()\n",
    "ros = RandomOverSampler(random_state=RANDOM_STATE)\n",
    "feat = SelectFromModel(LogisticRegression(C=0.1, class_weight='balanced', penalty='l2', random_state=RANDOM_STATE),\n",
    "                       threshold=-np.inf)\n",
    "\n",
    "scoring = {'acc': 'accuracy',\n",
    "           'bac': 'balanced_accuracy',\n",
    "           'rec': 'recall',\n",
    "           'prec': 'precision',\n",
    "          'roc':'roc_auc',\n",
    "          'avg': 'average_precision',\n",
    "          'f1w':'f1_weighted'}"
   ]
  },
  {
   "cell_type": "code",
   "execution_count": 9,
   "metadata": {},
   "outputs": [
    {
     "name": "stderr",
     "output_type": "stream",
     "text": [
      "[Parallel(n_jobs=6)]: Using backend LokyBackend with 6 concurrent workers.\n",
      "[Parallel(n_jobs=6)]: Done  38 tasks      | elapsed:  1.4min\n",
      "[Parallel(n_jobs=6)]: Done  50 out of  50 | elapsed:  1.8min finished\n"
     ]
    }
   ],
   "source": [
    "pip = pipeline.Pipeline([('scaler', scaler), ('ros', ros), ('feat', feat), ('clf', clf)])    \n",
    "\n",
    "param_grid_supp = {'clf__C':np.logspace(-3, 2, 10)}\n",
    "param_grid_supp['feat__max_features'] = range(1, X_supp.shape[1] + 1)\n",
    "\n",
    "grid = GridSearchCV(estimator=pip, \n",
    "                    param_grid=param_grid_supp, \n",
    "                    scoring='balanced_accuracy', iid=False,\n",
    "                    cv= StratifiedKFold(n_splits=10, random_state=RANDOM_STATE))\n",
    "\n",
    "res_all_supp = cross_validate(grid, X_supp, y_supp, \n",
    "                     scoring=scoring, \n",
    "                     cv = RepeatedStratifiedKFold(n_splits=10, n_repeats=5, random_state=RANDOM_STATE),\n",
    "                     return_estimator=True,\n",
    "                     return_train_score= True,\n",
    "                     verbose=1,\n",
    "                     n_jobs=6)"
   ]
  },
  {
   "cell_type": "code",
   "execution_count": 10,
   "metadata": {},
   "outputs": [
    {
     "name": "stdout",
     "output_type": "stream",
     "text": [
      "0.8184978354978355   0.7859999999999999   0.6055115440115441   0.8880505050505052\n"
     ]
    }
   ],
   "source": [
    "print(res_all_supp['test_bac'].mean(), ' ', \n",
    "      res_all_supp['test_rec'].mean(), ' ', \n",
    "      res_all_supp['test_prec'].mean(), ' ', \n",
    "      res_all_supp['test_roc'].mean())"
   ]
  },
  {
   "cell_type": "code",
   "execution_count": 11,
   "metadata": {},
   "outputs": [],
   "source": [
    "participation= 100*np.array([estim.best_estimator_.named_steps['feat'].get_support() \n",
    "                         for estim in res_all_supp['estimator']]).sum(axis=0)/50.0"
   ]
  },
  {
   "cell_type": "code",
   "execution_count": 12,
   "metadata": {},
   "outputs": [
    {
     "data": {
      "text/plain": [
       "array([100.,  82., 100.,  24.,  68.,  20.,  28.,  12.,  80.,  22.,  78.,\n",
       "        14.])"
      ]
     },
     "execution_count": 12,
     "metadata": {},
     "output_type": "execute_result"
    }
   ],
   "source": [
    "participation"
   ]
  },
  {
   "cell_type": "code",
   "execution_count": 14,
   "metadata": {},
   "outputs": [],
   "source": [
    "part_folds=1-np.array([estim.best_estimator_.named_steps['feat'].get_support() \n",
    "            for estim in res_all_supp['estimator']]).T[np.argsort(participation)[::-1],:]"
   ]
  },
  {
   "cell_type": "code",
   "execution_count": 16,
   "metadata": {},
   "outputs": [
    {
     "name": "stderr",
     "output_type": "stream",
     "text": [
      "findfont: Font family ['Times New Roman'] not found. Falling back to DejaVu Sans.\n"
     ]
    },
    {
     "data": {
      "image/png": "[encoded data removed]",
      "text/plain": [
       "<Figure size 432x288 with 2 Axes>"
      ]
     },
     "metadata": {
      "needs_background": "light"
     },
     "output_type": "display_data"
    }
   ],
   "source": [
    "fig = plt.figure()\n",
    "ax1 = fig.add_subplot(111)\n",
    "\n",
    "ax1.imshow(part_folds, aspect='auto', cmap='gray')\n",
    "\n",
    "ax1.set_xlabel(\"Folds\", size=15, fontweight='bold')\n",
    "ax1.set_xticks([0,9,19,29,39,49])\n",
    "ax1.set_xticklabels([\"1\", \"10\", \"20\",\"30\",\"40\",\"50\"], size=12, fontweight='bold')\n",
    "\n",
    "ax1.set_yticks(np.arange(X_supp.shape[1]+1))\n",
    "\n",
    "ax1.set_yticks(0.5 + np.arange(X_supp.shape[1]), minor=True)\n",
    "ax1.set_yticklabels(np.array(['Breslow', 'GM-CSF', 'IL-4', 'IL-6', 'IL-10', \n",
    "                              'IL-17A', r'IFN-$\\gamma$', r'TGF-$\\beta$', \n",
    "                              'DCD', 'AGE', 'SEX', 'ULCERATION'])[np.argsort(participation)[::-1]],\n",
    "                   size=12, fontweight='bold')\n",
    "\n",
    "ax1.set_xticks(0.5 + np.arange(50), minor=True)\n",
    "ax1.grid(which='minor')\n",
    "ax1.set_ylim([11.5, -0.5])\n",
    "#ax2.set_ylim([-5, 15])\n",
    "ax2= ax1.twinx()\n",
    "\n",
    "ax2.set_ylim([-0.5, X_supp.shape[1]+2])\n",
    "ax2.set_yticks([0.1, 1.3, 2.5, 3.7, 5, 6.2, 7.4, 8.5, 9.8, 10.9, 12.1, 13.3])\n",
    "ax2.set_yticklabels(participation[np.argsort(participation)],\n",
    "                    size=12, fontweight='bold', minor=False)\n",
    "ax1.autoscale(False)\n",
    "ax2.autoscale(False)\n",
    "ax2.set_ylabel(\"Total participation (%)\", size=15, fontweight=\"bold\")\n",
    "plt.title(\"CV selection\", size=25, fontweight=\"bold\")\n",
    "plt.tight_layout()\n",
    "#plt.savefig('plots/Figure_S3.svg', dpi = 300)\n",
    "#plt.savefig('plots/Figure_S3.png', dpi = 300)"
   ]
  },
  {
   "cell_type": "markdown",
   "metadata": {},
   "source": [
    "## BAYES FACTOR ANALYSIS\n",
    "\n",
    "To compare the possible models of interest coming out from our analyses, let's compute the BIC our proposed model of Breslow, GM-CSF, IL-4 and DCD, to other possible predictive models"
   ]
  },
  {
   "cell_type": "code",
   "execution_count": 17,
   "metadata": {},
   "outputs": [],
   "source": [
    "from sklearn.linear_model.logistic import _logistic_loss"
   ]
  },
  {
   "cell_type": "code",
   "execution_count": 18,
   "metadata": {},
   "outputs": [],
   "source": [
    "# Model 1: Breslow + GM-CSF + IL-4 + DCD\n",
    "X_model_1 = dat_supp.dropna().drop(columns=['EVOL_METASTASIS']).loc[:, ['HIST_BRESLOW_mm', \n",
    "                                                                        'GM-CSF', 'IL-4', \n",
    "                                                                        'Dermicidina']].values\n",
    "\n",
    "# Model 2: Model 1 + AGE + SEX + ULCERATION\n",
    "X_model_2 = dat_supp.dropna().drop(columns=['EVOL_METASTASIS']).loc[:, ['HIST_BRESLOW_mm', \n",
    "                                                                        'GM-CSF', \n",
    "                                                                        'IL-4', 'Dermicidina', \n",
    "                                                                        'AGE', 'SEX', 'HIST_ULCERACION']].values.astype(float)\n",
    "\n",
    "# Model 3: Breslow + AGE + SEX + ULCERATION (model with predictive factors other than serum variables)\n",
    "X_model_3 = dat_supp.dropna().drop(columns=['EVOL_METASTASIS']).loc[:, ['HIST_BRESLOW_mm', \n",
    "                                                                        'AGE', 'SEX', \n",
    "                                                                        'HIST_ULCERACION']].values.astype(float)\n",
    "\n",
    "# Model 3:Model 1 + SEX (as being one of the most important new features added)\n",
    "X_model_4 = dat_supp.dropna().drop(columns=['EVOL_METASTASIS']).loc[:, ['HIST_BRESLOW_mm', \n",
    "                                                                        'GM-CSF', 'IL-4', \n",
    "                                                                        'Dermicidina', 'SEX']].values\n",
    "\n",
    "y_bic = dat_supp.dropna().loc[:, 'EVOL_METASTASIS'].values"
   ]
  },
  {
   "cell_type": "code",
   "execution_count": 19,
   "metadata": {},
   "outputs": [],
   "source": [
    "clf = LogisticRegression(class_weight='balanced')\n",
    "pip = pipeline.Pipeline([('scaler', scaler), ('clf', clf)])    "
   ]
  },
  {
   "cell_type": "code",
   "execution_count": 20,
   "metadata": {},
   "outputs": [
    {
     "name": "stderr",
     "output_type": "stream",
     "text": [
      "/home/javier/anaconda3/lib/python3.7/site-packages/sklearn/linear_model/logistic.py:432: FutureWarning: Default solver will be changed to 'lbfgs' in 0.22. Specify a solver to silence this warning.\n",
      "  FutureWarning)\n"
     ]
    }
   ],
   "source": [
    "pip.fit(X_model_1, y_bic)\n",
    "\n",
    "X_model_1_trans = scaler.fit_transform(X_model_1)\n",
    "\n",
    "coef_ = np.squeeze(pip.named_steps['clf'].coef_)\n",
    "alpha = 1 / pip.named_steps['clf'].C\n",
    "\n",
    "P1 = np.exp(-_logistic_loss(coef_, X_model_1_trans, y_bic, alpha))\n",
    "\n",
    "n, k = X_model_1_trans.shape\n",
    "BIC_1 = -2*np.log(P1) + k*np.log(n)"
   ]
  },
  {
   "cell_type": "code",
   "execution_count": 21,
   "metadata": {},
   "outputs": [
    {
     "name": "stderr",
     "output_type": "stream",
     "text": [
      "/home/javier/anaconda3/lib/python3.7/site-packages/sklearn/linear_model/logistic.py:432: FutureWarning: Default solver will be changed to 'lbfgs' in 0.22. Specify a solver to silence this warning.\n",
      "  FutureWarning)\n"
     ]
    }
   ],
   "source": [
    "pip.fit(X_model_2, y_bic)\n",
    "\n",
    "X_model_2_trans = scaler.fit_transform(X_model_2)\n",
    "\n",
    "coef_ = np.squeeze(pip.named_steps['clf'].coef_)\n",
    "alpha = 1 / pip.named_steps['clf'].C\n",
    "\n",
    "P2 = np.exp(-_logistic_loss(coef_, X_model_2_trans, y_bic, alpha))\n",
    "n, k = X_model_2_trans.shape\n",
    "BIC_2 = -2*np.log(P2) + k*np.log(n)"
   ]
  },
  {
   "cell_type": "code",
   "execution_count": 22,
   "metadata": {},
   "outputs": [
    {
     "name": "stderr",
     "output_type": "stream",
     "text": [
      "/home/javier/anaconda3/lib/python3.7/site-packages/sklearn/linear_model/logistic.py:432: FutureWarning: Default solver will be changed to 'lbfgs' in 0.22. Specify a solver to silence this warning.\n",
      "  FutureWarning)\n"
     ]
    }
   ],
   "source": [
    "pip.fit(X_model_3, y_bic)\n",
    "\n",
    "X_model_3_trans = scaler.fit_transform(X_model_3)\n",
    "\n",
    "coef_ = np.squeeze(pip.named_steps['clf'].coef_)\n",
    "alpha = 1 / pip.named_steps['clf'].C\n",
    "\n",
    "P3 = np.exp(-_logistic_loss(coef_, X_model_3_trans, y_bic, alpha))\n",
    "n, k = X_model_3_trans.shape\n",
    "BIC_3 = -2*np.log(P3) + k*np.log(n)"
   ]
  },
  {
   "cell_type": "code",
   "execution_count": 23,
   "metadata": {},
   "outputs": [
    {
     "name": "stderr",
     "output_type": "stream",
     "text": [
      "/home/javier/anaconda3/lib/python3.7/site-packages/sklearn/linear_model/logistic.py:432: FutureWarning: Default solver will be changed to 'lbfgs' in 0.22. Specify a solver to silence this warning.\n",
      "  FutureWarning)\n"
     ]
    }
   ],
   "source": [
    "pip.fit(X_model_4, y_bic)\n",
    "\n",
    "X_model_4_trans = scaler.fit_transform(X_model_4)\n",
    "\n",
    "coef_ = np.squeeze(pip.named_steps['clf'].coef_)\n",
    "alpha = 1 / pip.named_steps['clf'].C\n",
    "\n",
    "P4 = np.exp(-_logistic_loss(coef_, X_model_4_trans, y_bic, alpha))\n",
    "n, k = X_model_4_trans.shape\n",
    "BIC_4 = -2*np.log(P3) + k*np.log(n)"
   ]
  },
  {
   "cell_type": "code",
   "execution_count": 29,
   "metadata": {},
   "outputs": [
    {
     "name": "stdout",
     "output_type": "stream",
     "text": [
      "BIC model 1 = 337.18\n",
      "BIC model 2 = 355.54\n",
      "BIC model 3 = 343.48\n",
      "BIC model 4 = 349.07\n"
     ]
    }
   ],
   "source": [
    "# BICs\n",
    "print(\"BIC model 1 = %.2f\\n\"\n",
    "      \"BIC model 2 = %.2f\\n\"\n",
    "      \"BIC model 3 = %.2f\\n\"\n",
    "      \"BIC model 4 = %.2f\"% (BIC_1, BIC_2, BIC_3, BIC_4))"
   ]
  },
  {
   "cell_type": "markdown",
   "metadata": {},
   "source": [
    "Let's compute the evidence of our proposed model with respect to the others"
   ]
  },
  {
   "cell_type": "code",
   "execution_count": 30,
   "metadata": {},
   "outputs": [
    {
     "name": "stdout",
     "output_type": "stream",
     "text": [
      "Bayes Factor between model with our variables of interest and the same model including also confoundings = 9714.965\n"
     ]
    }
   ],
   "source": [
    "B12 = np.exp(0.5*(BIC_2 - BIC_1))\n",
    "print(\"Bayes Factor between model with our variables of interest and\"\n",
    "      \" the same model including also confoundings = %.3f\" % B12)"
   ]
  },
  {
   "cell_type": "code",
   "execution_count": 31,
   "metadata": {},
   "outputs": [
    {
     "name": "stdout",
     "output_type": "stream",
     "text": [
      "Bayes Factor between the model with the variables of interest versus only the confoundings = 23.392\n"
     ]
    }
   ],
   "source": [
    "B13 = np.exp(0.5*(BIC_3 - BIC_1))\n",
    "print(\"Bayes Factor between the model with the variables of interest\"\n",
    "      \" versus only the confoundings = %.3f\" % B13)"
   ]
  },
  {
   "cell_type": "code",
   "execution_count": 32,
   "metadata": {},
   "outputs": [
    {
     "name": "stdout",
     "output_type": "stream",
     "text": [
      "Bayes Factor between the model with the variables of interest versus only the confoundings = 382.225\n"
     ]
    }
   ],
   "source": [
    "B14 = np.exp(0.5*(BIC_4 - BIC_1))\n",
    "print(\"Bayes Factor between the model with the variables of interest\"\n",
    "      \" versus only the confoundings = %.3f\" % B14)"
   ]
  }
 ],
 "metadata": {
  "kernelspec": {
   "display_name": "Python 3",
   "language": "python",
   "name": "python3"
  },
  "language_info": {
   "codemirror_mode": {
    "name": "ipython",
    "version": 3
   },
   "file_extension": ".py",
   "mimetype": "text/x-python",
   "name": "python",
   "nbconvert_exporter": "python",
   "pygments_lexer": "ipython3",
   "version": "3.7.4"
  }
 },
 "nbformat": 4,
 "nbformat_minor": 2
}
