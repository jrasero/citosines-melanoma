{
 "cells": [
  {
   "cell_type": "code",
   "execution_count": 1,
   "metadata": {},
   "outputs": [],
   "source": [
    "import numpy as np\n",
    "import pandas as pd\n",
    "import matplotlib.pylab as plt"
   ]
  },
  {
   "cell_type": "code",
   "execution_count": 2,
   "metadata": {},
   "outputs": [],
   "source": [
    "from sklearn.model_selection import (GridSearchCV, StratifiedKFold)\n",
    "from sklearn.linear_model import LogisticRegression\n",
    "from sklearn.preprocessing import RobustScaler\n",
    "from sklearn.metrics import roc_auc_score, roc_curve\n",
    "from imblearn.over_sampling import RandomOverSampler\n",
    "from imblearn import pipeline"
   ]
  },
  {
   "cell_type": "code",
   "execution_count": 3,
   "metadata": {},
   "outputs": [],
   "source": [
    "RANDOM_STATE = 0"
   ]
  },
  {
   "cell_type": "code",
   "execution_count": 4,
   "metadata": {},
   "outputs": [],
   "source": [
    "dat_cits = pd.read_csv(\"data/ml_data.csv\")"
   ]
  },
  {
   "cell_type": "code",
   "execution_count": 5,
   "metadata": {},
   "outputs": [],
   "source": [
    "clf = LogisticRegression(class_weight='balanced', random_state=RANDOM_STATE)\n",
    "scaler = RobustScaler()\n",
    "ros = RandomOverSampler(random_state=RANDOM_STATE)\n",
    "\n",
    "pip = pipeline.Pipeline([('scaler', scaler), ('ros', ros), ('clf', clf)])        \n",
    "grid = GridSearchCV(estimator=pip, param_grid={'clf__C':np.logspace(-3, 2, 10)}, \n",
    "                        scoring='balanced_accuracy', iid=False,\n",
    "                        cv= StratifiedKFold(n_splits=10, random_state=RANDOM_STATE))"
   ]
  },
  {
   "cell_type": "code",
   "execution_count": 6,
   "metadata": {},
   "outputs": [],
   "source": [
    "# We focus only on most important and stable variables from previous analysis\n",
    "X_roc = dat_cits.dropna().loc[:, ['HIST_BRESLOW_mm', 'GM-CSF', 'IL-4', 'Dermicidina']].values\n",
    "y_roc = dat_cits.dropna().loc[:,'EVOL_METASTASIS'].values"
   ]
  },
  {
   "cell_type": "code",
   "execution_count": 7,
   "metadata": {},
   "outputs": [
    {
     "name": "stderr",
     "output_type": "stream",
     "text": [
      "/home/javitxu/anaconda2/lib/python2.7/site-packages/sklearn/linear_model/logistic.py:433: FutureWarning: Default solver will be changed to 'lbfgs' in 0.22. Specify a solver to silence this warning.\n",
      "  FutureWarning)\n"
     ]
    },
    {
     "data": {
      "text/plain": [
       "GridSearchCV(cv=StratifiedKFold(n_splits=10, random_state=0, shuffle=False),\n",
       "       error_score='raise-deprecating',\n",
       "       estimator=Pipeline(memory=None,\n",
       "     steps=[('scaler', RobustScaler(copy=True, quantile_range=(25.0, 75.0), with_centering=True,\n",
       "       with_scaling=True)), ('ros', RandomOverSampler(random_state=0, ratio=None, return_indices=False,\n",
       "         sampling_strategy='auto')), ('clf', LogisticRegression(C=1.0, class_weight='balanced', dual=Fal...e, penalty='l2', random_state=0,\n",
       "          solver='warn', tol=0.0001, verbose=0, warm_start=False))]),\n",
       "       fit_params=None, iid=False, n_jobs=None,\n",
       "       param_grid={'clf__C': array([1.00000e-03, 3.59381e-03, 1.29155e-02, 4.64159e-02, 1.66810e-01,\n",
       "       5.99484e-01, 2.15443e+00, 7.74264e+00, 2.78256e+01, 1.00000e+02])},\n",
       "       pre_dispatch='2*n_jobs', refit=True, return_train_score='warn',\n",
       "       scoring='balanced_accuracy', verbose=0)"
      ]
     },
     "execution_count": 7,
     "metadata": {},
     "output_type": "execute_result"
    }
   ],
   "source": [
    "grid.fit(X_roc, y_roc)"
   ]
  },
  {
   "cell_type": "code",
   "execution_count": 9,
   "metadata": {},
   "outputs": [],
   "source": [
    "# Compute roc curve for this classifier\n",
    "fpr, tpr, thr = roc_curve(y_true=y_roc, \n",
    "                          y_score=grid.predict_proba(X_roc)[:,1], \n",
    "                          drop_intermediate=False)"
   ]
  },
  {
   "cell_type": "code",
   "execution_count": 11,
   "metadata": {},
   "outputs": [
    {
     "name": "stdout",
     "output_type": "stream",
     "text": [
      "(0.79, 0.11)\n"
     ]
    }
   ],
   "source": [
    "# Criterion 1: Find point closest to [0,1]\n",
    "d_roc = [np.sum((np.array([0,1]) - np.array([f, t]))**2) for f, t in zip(fpr, tpr)]\n",
    "closest_point = np.argmin(d_roc)\n",
    "\n",
    "print(np.round(tpr[closest_point],2), np.round(fpr[closest_point],2))"
   ]
  },
  {
   "cell_type": "code",
   "execution_count": 13,
   "metadata": {},
   "outputs": [
    {
     "name": "stdout",
     "output_type": "stream",
     "text": [
      "(0.77, 0.09)\n"
     ]
    }
   ],
   "source": [
    "# Criterion 2: Younden Index\n",
    "YI = np.argmax(tpr - fpr)\n",
    "print(np.round(tpr[YI],2), np.round(fpr[YI],2))"
   ]
  },
  {
   "cell_type": "code",
   "execution_count": 15,
   "metadata": {},
   "outputs": [
    {
     "name": "stdout",
     "output_type": "stream",
     "text": [
      "(0.79, 0.11)\n"
     ]
    }
   ],
   "source": [
    "# Index of union\n",
    "auc = roc_auc_score(y_true=y_roc, y_score=grid.predict_proba(X_roc)[:,1])\n",
    "IU = np.argmin(abs((tpr - auc)) + abs((1-fpr - auc)))\n",
    "print(np.round(tpr[IU],2), np.round(fpr[IU],2))"
   ]
  },
  {
   "cell_type": "code",
   "execution_count": 17,
   "metadata": {},
   "outputs": [
    {
     "data": {
      "image/png": "[encoded data removed]",
      "text/plain": [
       "<Figure size 432x288 with 1 Axes>"
      ]
     },
     "metadata": {
      "needs_background": "light"
     },
     "output_type": "display_data"
    }
   ],
   "source": [
    "plt.plot(d_roc)\n",
    "plt.plot(tpr - fpr)\n",
    "plt.plot(abs((tpr - auc)) + abs((1-fpr - auc)))\n",
    "plt.legend(['(0, 1) closest', 'Younden index', ' Index of Union'])\n",
    "pass\n",
    "#plt.savefig(\"plots/indeces_roc.svg\", dpi=300)"
   ]
  },
  {
   "cell_type": "code",
   "execution_count": 18,
   "metadata": {},
   "outputs": [],
   "source": [
    "thr_opt= thr[IU]\n",
    "fpr_opt = fpr[IU]\n",
    "tpr_opt = tpr[IU]\n",
    "p=sum(y_roc==1)\n",
    "n=sum(y_roc==0)\n",
    "\n",
    "acc_opt = (p*tpr_opt + n*(1-fpr_opt))/float((p+n))"
   ]
  },
  {
   "cell_type": "code",
   "execution_count": 19,
   "metadata": {},
   "outputs": [
    {
     "name": "stdout",
     "output_type": "stream",
     "text": [
      "(0.5294844929866783, 0.10900473933649289, 0.7857142857142857)\n"
     ]
    }
   ],
   "source": [
    "print(thr_opt, fpr_opt, tpr_opt)"
   ]
  },
  {
   "cell_type": "code",
   "execution_count": 20,
   "metadata": {},
   "outputs": [],
   "source": [
    "C_plane = np.log(thr_opt/(1-thr_opt))\n",
    "w_0 = grid.best_estimator_.named_steps['clf'].intercept_\n",
    "w_1, w_2, w_3, w_4 = grid.best_estimator_.named_steps['clf'].coef_.squeeze()"
   ]
  },
  {
   "cell_type": "code",
   "execution_count": 21,
   "metadata": {},
   "outputs": [],
   "source": [
    "# Transform plane equation\n",
    "center_opt = grid.best_estimator_.named_steps['scaler'].center_\n",
    "scaling_opt = grid.best_estimator_.named_steps['scaler'].scale_"
   ]
  },
  {
   "cell_type": "code",
   "execution_count": 22,
   "metadata": {},
   "outputs": [
    {
     "name": "stdout",
     "output_type": "stream",
     "text": [
      "[1.46000e+00 1.71780e+02 4.06000e+01 2.84909e+03]\n",
      "[ 1.03 -0.31  0.25 -0.29]\n",
      "[ 1.41000e+00 -5.62640e+02  1.61810e+02 -9.87112e+03]\n",
      "0.99\n"
     ]
    }
   ],
   "source": [
    "right_coef = np.round(C_plane - w_0[0] + sum(np.array([w_1, w_2, w_3, w_4])*center_opt/scaling_opt), 2)\n",
    "denominators = np.round(scaling_opt/np.array([w_1,w_2,w_3, w_4]), 2)\n",
    "\n",
    "print( np.round(scaling_opt, 2))\n",
    "print( np.round(np.array([w_1,w_2,w_3, w_4]),2))\n",
    "print( np.round(scaling_opt/np.array([w_1,w_2,w_3, w_4]),2))\n",
    "print(np.round(right_coef,2))"
   ]
  },
  {
   "cell_type": "code",
   "execution_count": 23,
   "metadata": {},
   "outputs": [],
   "source": [
    "plane_eq_text = r'$\\left(\\frac{\\bf Breslow}{%.2f}\\right) \\\n",
    "- \\left(\\frac{\\bf GM-CSF }{%.2f}\\right) \\\n",
    "+ \\left(\\frac{\\bf IL-4}{%.2f} \\right) \\\n",
    "-  \\left(\\frac{\\bf DCD}{%.2f} \\right) = %.2f $' % (abs(denominators[0]), \n",
    "                                                    abs(denominators[1]), \n",
    "                                                    abs(denominators[2]),\n",
    "                                                    abs(denominators[3]),\n",
    "                                                    right_coef)"
   ]
  },
  {
   "cell_type": "code",
   "execution_count": 24,
   "metadata": {},
   "outputs": [
    {
     "data": {
      "text/latex": [
       "$$\\left(\\frac{\\bf Breslow}{1.41}\\right) - \\left(\\frac{\\bf GM-CSF }{562.64}\\right) + \\left(\\frac{\\bf IL-4}{161.81} \\right) -  \\left(\\frac{\\bf DCD}{9871.12} \\right) = 0.99 $$"
      ],
      "text/plain": [
       "<IPython.core.display.Math object>"
      ]
     },
     "execution_count": 24,
     "metadata": {},
     "output_type": "execute_result"
    }
   ],
   "source": [
    "from IPython.display import display, Math, Latex\n",
    "\n",
    "Math(plane_eq_text)"
   ]
  },
  {
   "cell_type": "code",
   "execution_count": 25,
   "metadata": {},
   "outputs": [
    {
     "data": {
      "image/png": "[encoded data removed]",
      "text/plain": [
       "<Figure size 432x288 with 1 Axes>"
      ]
     },
     "metadata": {
      "needs_background": "light"
     },
     "output_type": "display_data"
    }
   ],
   "source": [
    "plt.plot(fpr, tpr, color='black', linewidth=2, linestyle='dashed')\n",
    "\n",
    "#plt.scatter(fpr_opt,tpr_opt, c = 'blue', marker='x', s=100)\n",
    "plt.scatter(fpr_opt,tpr_opt, marker='s', s=100,  facecolors='none', edgecolors='black')\n",
    "plt.scatter(fpr_opt,tpr_opt, c = 'blue', marker='x', s=50)\n",
    "plt.xlim([-0.05, 1.05])\n",
    "plt.ylim([-0.05, 1.05])\n",
    "plt.xlabel('FALSE POSITIVE RATE',size=15,weight='bold')\n",
    "plt.ylabel('TRUE POSITIVE RATE',size=15,weight='bold')\n",
    "plt.title('ROC CURVE',size=25, weight='bold')\n",
    "plt.xticks(size=10, weight='bold')\n",
    "plt.yticks(size=10, weight='bold')\n",
    "plt.tight_layout()\n",
    "plt.plot([0,1], [0, 1], 'r--', alpha=0.7)\n",
    "plt.text(0.55, 0.45, plane_eq_text, horizontalalignment='center',size=12, weight='bold',\n",
    "         verticalalignment='center', bbox=dict(boxstyle='round', facecolor='wheat', alpha=1))\n",
    "#plt.savefig('plots/roc_curves_training.svg', dpi=300)\n",
    "pass"
   ]
  }
 ],
 "metadata": {
  "kernelspec": {
   "display_name": "Python 3",
   "language": "python",
   "name": "python3"
  },
  "language_info": {
   "codemirror_mode": {
    "name": "ipython",
    "version": 2
   },
   "file_extension": ".py",
   "mimetype": "text/x-python",
   "name": "python",
   "nbconvert_exporter": "python",
   "pygments_lexer": "ipython2",
   "version": "2.7.15"
  }
 },
 "nbformat": 4,
 "nbformat_minor": 2
}
