{
 "cells": [
  {
   "cell_type": "code",
   "execution_count": 1,
   "metadata": {},
   "outputs": [],
   "source": [
    "import numpy as np\n",
    "import pandas as pd\n",
    "import matplotlib.pylab as plt\n",
    "\n",
    "import warnings\n",
    "warnings.filterwarnings('ignore')"
   ]
  },
  {
   "cell_type": "code",
   "execution_count": 2,
   "metadata": {},
   "outputs": [],
   "source": [
    "RANDOM_STATE=0"
   ]
  },
  {
   "cell_type": "markdown",
   "metadata": {},
   "source": [
    "# Load the data"
   ]
  },
  {
   "cell_type": "code",
   "execution_count": 3,
   "metadata": {},
   "outputs": [],
   "source": [
    "dat_verdes = pd.read_excel('ELK REALES DEF Melanoma_Patients_DataBase.TODOS_VERDE.xlsx')"
   ]
  },
  {
   "cell_type": "code",
   "execution_count": 4,
   "metadata": {},
   "outputs": [],
   "source": [
    "# Change mistakenly EL-B007 duplicated to EL-B176\n",
    "dat_verdes.iloc[7,1] = 'EL-B176'"
   ]
  },
  {
   "cell_type": "code",
   "execution_count": 5,
   "metadata": {},
   "outputs": [],
   "source": [
    "dat_verdes.rename(columns={dat_verdes.columns[28]: 'IFNg', \n",
    "                                      dat_verdes.columns[29]: \"TGFb\",\n",
    "                                      dat_verdes.columns[1]:'code'}, inplace =True)"
   ]
  },
  {
   "cell_type": "code",
   "execution_count": 6,
   "metadata": {},
   "outputs": [],
   "source": [
    "#Drop subjects with more than 1 biopsy. Including them would ruin independency of observations\n",
    "dat_verdes = dat_verdes.drop_duplicates(subset = 'code')"
   ]
  },
  {
   "cell_type": "code",
   "execution_count": 7,
   "metadata": {},
   "outputs": [],
   "source": [
    "# Interpolate under measure kits sensitivity levels \n",
    "# between 0 and the sensitivity of the tests\n",
    "sens_levels = [1.22, 1.12, 0.18, 1.46, 0.73, 0.61]\n",
    "np.random.seed(RANDOM_STATE)\n",
    "for i, cit_name in enumerate(['GM-CSF', 'IL-4', u'IL-6', u'IL-10', 'IL-17A', 'IFNg']):\n",
    "    foo = dat_verdes.loc[:,cit_name].astype(str).values\n",
    "    dat_verdes.loc[:,cit_name] = [str(sens_levels[i]*np.random.rand()) if elem.startswith('<') else elem \n",
    "                                     for elem in foo]\n",
    "    dat_verdes.loc[:,cit_name] = pd.to_numeric(dat_verdes.loc[:,cit_name], errors='corce')"
   ]
  },
  {
   "cell_type": "code",
   "execution_count": 9,
   "metadata": {},
   "outputs": [],
   "source": [
    "# Split in Healthy, melanoma and Nevus Subjects\n",
    "healthy  = dat_verdes[dat_verdes['HIST_AJCC_RES']==11].copy()\n",
    "melanoma  = dat_verdes[(dat_verdes['HIST_AJCC_RES']>0)  & \n",
    "                           (dat_verdes['HIST_AJCC_RES']<11)].copy()\n",
    "nevus  = dat_verdes[dat_verdes['HIST_AJCC_RES']==0].copy()"
   ]
  },
  {
   "cell_type": "markdown",
   "metadata": {},
   "source": [
    "# STATISTIC"
   ]
  },
  {
   "cell_type": "code",
   "execution_count": 21,
   "metadata": {},
   "outputs": [],
   "source": [
    "from scipy.stats import kruskal,mannwhitneyu, chi2_contingency, shapiro\n",
    "from statsmodels.stats.multitest import multipletests\n",
    "from statsmodels.graphics.gofplots import ProbPlot\n",
    "from functions import bootci, delta"
   ]
  },
  {
   "cell_type": "code",
   "execution_count": 11,
   "metadata": {},
   "outputs": [
    {
     "name": "stdout",
     "output_type": "stream",
     "text": [
      "(0.40724968910217285, 2.5311538021482448e-36)\n",
      "(0.6654210686683655, 3.1785108449398377e-29)\n",
      "(0.600279688835144, 2.403490040934221e-31)\n",
      "(0.6253691911697388, 1.4552753599338173e-30)\n",
      "(0.7246742248535156, 5.454404239897725e-27)\n",
      "(0.6535303592681885, 1.2358056745787968e-29)\n",
      "(0.8912935853004456, 8.671293829543374e-18)\n",
      "(0.8545606136322021, 2.6951795839207434e-19)\n",
      "(0.971232533454895, 5.559875404514969e-08)\n"
     ]
    }
   ],
   "source": [
    "# Check normality of variables\n",
    "for var in ['GM-CSF', 'IL-4', u'IL-6', u'IL-10', 'IL-17A', 'IFNg',  'TGFb', 'Dermicidina', 'EDAD al Dx']:\n",
    "    print(shapiro(dat_verdes.loc[:, var].dropna()))"
   ]
  },
  {
   "cell_type": "code",
   "execution_count": 12,
   "metadata": {},
   "outputs": [
    {
     "data": {
      "image/png": "[encoded data removed]",
      "text/plain": [
       "<Figure size 432x288 with 1 Axes>"
      ]
     },
     "metadata": {
      "needs_background": "light"
     },
     "output_type": "display_data"
    }
   ],
   "source": [
    "fig, ax = plt.subplots()\n",
    "for var in ['GM-CSF', 'IL-4', u'IL-6', u'IL-10', 'IL-17A', 'IFNg',  'TGFb', 'Dermicidina', 'EDAD al Dx']: \n",
    "    foo=ProbPlot(data=dat_verdes.loc[:,var].dropna().values.astype(float), fit=True)\n",
    "    foo.ppplot(line='45', ax=ax, fmt='o', linestyle = '-', color = 'gray', markersize=1, ylabel=\"GAUSSIAN\")"
   ]
  },
  {
   "cell_type": "markdown",
   "metadata": {},
   "source": [
    "### TABLE 2: MELANOMA VERSUS STAGE"
   ]
  },
  {
   "cell_type": "code",
   "execution_count": 26,
   "metadata": {},
   "outputs": [
    {
     "name": "stdout",
     "output_type": "stream",
     "text": [
      "var = GM-CSF stage 1 median= 108.49 li = 78.96 ui = 163.75\n",
      "var = GM-CSF stage 2 median= 122.56 li = 107.17 ui = 140.39\n",
      "var = GM-CSF stage 3 median= 137.86 li = 104.2 ui = 170.74\n",
      "var = GM-CSF stage 4 median= 84.68 li = 42.66 ui = 116.94\n",
      "var = GM-CSF stage 5 median= 63.48 li = 18.09 ui = 280.48\n",
      "var = IL-4 stage 1 median= 27.76 li = 20.07 ui = 37.21\n",
      "var = IL-4 stage 2 median= 35.95 li = 28.88 ui = 41.5\n",
      "var = IL-4 stage 3 median= 37.81 li = 28.42 ui = 56.31\n",
      "var = IL-4 stage 4 median= 52.82 li = 27.86 ui = 63.0\n",
      "var = IL-4 stage 5 median= 33.33 li = 8.49 ui = 136.3\n",
      "var = IL-6 stage 1 median= 3.11 li = 2.02 ui = 3.84\n",
      "var = IL-6 stage 2 median= 3.3 li = 2.91 ui = 3.98\n",
      "var = IL-6 stage 3 median= 4.27 li = 3.23 ui = 5.46\n",
      "var = IL-6 stage 4 median= 2.62 li = 1.8 ui = 5.42\n",
      "var = IL-6 stage 5 median= 4.97 li = 1.11 ui = 6.65\n",
      "var = IL-10 stage 1 median= 8.29 li = 5.16 ui = 13.15\n",
      "var = IL-10 stage 2 median= 10.23 li = 7.95 ui = 13.76\n",
      "var = IL-10 stage 3 median= 11.34 li = 7.38 ui = 16.35\n",
      "var = IL-10 stage 4 median= 10.83 li = 6.67 ui = 18.51\n",
      "var = IL-10 stage 5 median= 10.71 li = 5.51 ui = 30.81\n",
      "var = IL-17A stage 1 median= 12.88 li = 10.87 ui = 17.6\n",
      "var = IL-17A stage 2 median= 19.35 li = 17.12 ui = 22.24\n",
      "var = IL-17A stage 3 median= 16.51 li = 12.85 ui = 22.07\n",
      "var = IL-17A stage 4 median= 17.84 li = 10.0 ui = 22.92\n",
      "var = IL-17A stage 5 median= 16.43 li = 10.97 ui = 26.67\n",
      "var = IFNg stage 1 median= 15.08 li = 10.67 ui = 18.88\n",
      "var = IFNg stage 2 median= 17.95 li = 15.92 ui = 20.04\n",
      "var = IFNg stage 3 median= 19.07 li = 13.94 ui = 24.57\n",
      "var = IFNg stage 4 median= 12.6 li = 10.09 ui = 24.98\n",
      "var = IFNg stage 5 median= 21.26 li = 9.66 ui = 50.75\n",
      "var = TGFb stage 1 median= 49.36 li = 47.34 ui = 57.4\n",
      "var = TGFb stage 2 median= 49.18 li = 45.37 ui = 54.21\n",
      "var = TGFb stage 3 median= 46.67 li = 40.13 ui = 55.3\n",
      "var = TGFb stage 4 median= 43.54 li = 39.46 ui = 66.04\n",
      "var = TGFb stage 5 median= 63.04 li = 34.91 ui = 85.4\n",
      "var = Dermicidina stage 1 median= 4820.75 li = 4400.56 ui = 5657.38\n",
      "var = Dermicidina stage 2 median= 4814.01 li = 4319.33 ui = 5018.09\n",
      "var = Dermicidina stage 3 median= 4439.44 li = 3986.47 ui = 4881.32\n",
      "var = Dermicidina stage 4 median= 4181.36 li = 3082.15 ui = 4880.0\n",
      "var = Dermicidina stage 5 median= 4104.74 li = 1634.22 ui = 6414.0\n"
     ]
    }
   ],
   "source": [
    "np.random.seed(RANDOM_STATE)\n",
    "for var in ['GM-CSF', 'IL-4', u'IL-6', u'IL-10', 'IL-17A', 'IFNg', 'TGFb', 'Dermicidina']:\n",
    "    for stage_i in np.arange(1,6):\n",
    "        case = melanoma.loc[melanoma['HIST_AJCC_RES']==stage_i, var].dropna().values\n",
    "        l, u = bootci(case, stat=np.median)\n",
    "        print( 'var = ' + var + ' stage ' + str(stage_i) + ' median= ' + \n",
    "              str(np.round(np.median(case),2)) + ' li = ' + str(np.round(l,2)) + ' ui = ' + str(np.round(u,2)))"
   ]
  },
  {
   "cell_type": "code",
   "execution_count": 27,
   "metadata": {},
   "outputs": [
    {
     "name": "stdout",
     "output_type": "stream",
     "text": [
      "[0.489 0.413 0.413 0.614 0.413 0.413 0.614 0.489]\n"
     ]
    }
   ],
   "source": [
    "# Kruskal wallis on stage\n",
    "p_stages=[]\n",
    "for var in ['GM-CSF', 'IL-4', u'IL-6', u'IL-10', 'IL-17A', 'IFNg', 'TGFb', 'Dermicidina']:\n",
    "    case = [melanoma.loc[melanoma['HIST_AJCC_RES']==stage_i, var].dropna().values \\\n",
    "            for stage_i in np.arange(1,6)]\n",
    "    _, p = kruskal(*case)\n",
    "    p_stages.append(p)\n",
    "\n",
    "_, p_stages_fdr, _, _ = multipletests(p_stages, method=\"fdr_bh\")\n",
    "print(np.round(p_stages_fdr, 3))"
   ]
  }
 ],
 "metadata": {
  "kernelspec": {
   "display_name": "Python 3",
   "language": "python",
   "name": "python3"
  },
  "language_info": {
   "codemirror_mode": {
    "name": "ipython",
    "version": 2
   },
   "file_extension": ".py",
   "mimetype": "text/x-python",
   "name": "python",
   "nbconvert_exporter": "python",
   "pygments_lexer": "ipython2",
   "version": "2.7.15"
  }
 },
 "nbformat": 4,
 "nbformat_minor": 2
}
